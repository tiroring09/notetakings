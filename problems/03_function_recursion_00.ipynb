{
 "cells": [
  {
   "cell_type": "markdown",
   "metadata": {},
   "source": [
    "# 하노이의 탑\n",
    "\n",
    "> 다음은 하노이의 탑입니다. \n",
    ">\n",
    "> 하노이의 탑을 풀이하는 해법(한쪽 탑의 원판을 다른 탑으로 모두 옮기는 법)을 출력하는 함수를 작성하세요.\n",
    "> \n",
    "> 참고링크 : https://ko.khanacademy.org/computing/computer-science/algorithms/towers-of-hanoi/a/towers-of-hanoi\n",
    "\n",
    "<br>\n",
    "<br>\n",
    "<center>\n",
    "        <img src=\"https://user-images.githubusercontent.com/18046097/61181749-2ab62a80-a665-11e9-83fb-3894f9938730.jpeg\", alt=\"hanoi\">\n",
    "    <img src=\"https://user-images.githubusercontent.com/18046097/61181748-2ab62a80-a665-11e9-9c41-4a7b495d4d39.gif\", alt=\"hanoi gif\">\n",
    "</center>\n",
    "\n",
    "1. 한 번에 한개의 층만을 다른 기둥으로 옮길 수 있다.\n",
    "2. 옮기려는 기둥에는 아무것도 없거나 옮기려는 층보다 큰 층이 있을 경우에만 옮길 수 있다.\n",
    "3. 옮기려는 기둥에 옮기려는 층보다 작은 층이 이미 있을 경우 그 기둥으로 옮길 수 없다.\n",
    "4. 가능한 적은 회수로 전체 탑을 다른 기둥으로 옮긴다."
   ]
  },
  {
   "cell_type": "code",
   "execution_count": null,
   "metadata": {},
   "outputs": [],
   "source": [
    "# 아래에 코드를 작성하세요."
   ]
  },
  {
   "cell_type": "code",
   "execution_count": 1,
   "metadata": {},
   "outputs": [],
   "source": [
    "def hanoi(num):\n",
    "    if num == 1:\n",
    "        return num\n",
    "    return hanoi(num - 1) * 2 + 1"
   ]
  },
  {
   "cell_type": "code",
   "execution_count": 3,
   "metadata": {},
   "outputs": [
    {
     "name": "stdout",
     "output_type": "stream",
     "text": [
      "1\n",
      "3\n",
      "7\n",
      "15\n"
     ]
    }
   ],
   "source": [
    "print(hanoi(1)) # 1\n",
    "print(hanoi(2)) # 3\n",
    "print(hanoi(3)) # 7\n",
    "print(hanoi(4)) # 15"
   ]
  },
  {
   "cell_type": "code",
   "execution_count": 12,
   "metadata": {},
   "outputs": [
    {
     "name": "stdout",
     "output_type": "stream",
     "text": [
      "1번재 원판을, a에서 c로\n",
      "2번재 원판을, a에서 b로\n",
      "1번재 원판을, c에서 b로\n",
      "3번재 원판을, a에서 c로\n",
      "1번재 원판을, b에서 a로\n",
      "2번재 원판을, b에서 c로\n",
      "1번재 원판을, a에서 c로\n"
     ]
    }
   ],
   "source": [
    "def hanoi2(n, start, temp, end):\n",
    "    # 마지막 원판을 어떻게 옮기느냐\n",
    "    # >> 마지막 원판을 제외한 나머지를 옮기느냐\n",
    "    if n:\n",
    "        hanoi2(n - 1, start, end, temp)\n",
    "        print(f'{n}번재 원판을, {start}에서 {end}로')\n",
    "        hanoi2(n - 1, temp, start, end)\n",
    "        \n",
    "hanoi2(3, 'a', 'b', 'c')"
   ]
  },
  {
   "cell_type": "code",
   "execution_count": 4,
   "metadata": {},
   "outputs": [],
   "source": [
    "def rpt_hanoi(num):\n",
    "    if num == 1:\n",
    "        return 1\n",
    "    \n",
    "    result = 0\n",
    "    count = 1\n",
    "    pre = 1\n",
    "    \n",
    "    while count < num:\n",
    "        result = pre * 2 + 1\n",
    "\n",
    "        pre = result\n",
    "        count += 1\n",
    "        \n",
    "    return result\n",
    "    "
   ]
  },
  {
   "cell_type": "code",
   "execution_count": 5,
   "metadata": {},
   "outputs": [
    {
     "name": "stdout",
     "output_type": "stream",
     "text": [
      "1\n",
      "3\n",
      "7\n",
      "15\n"
     ]
    }
   ],
   "source": [
    "print(rpt_hanoi(1)) # 1\n",
    "print(rpt_hanoi(2)) # 3\n",
    "print(rpt_hanoi(3)) # 7\n",
    "print(rpt_hanoi(4)) # 15"
   ]
  }
 ],
 "metadata": {
  "kernelspec": {
   "display_name": "Python 3",
   "language": "python",
   "name": "python3"
  },
  "language_info": {
   "codemirror_mode": {
    "name": "ipython",
    "version": 3
   },
   "file_extension": ".py",
   "mimetype": "text/x-python",
   "name": "python",
   "nbconvert_exporter": "python",
   "pygments_lexer": "ipython3",
   "version": "3.7.3"
  },
  "toc": {
   "base_numbering": 1,
   "nav_menu": {},
   "number_sections": true,
   "sideBar": true,
   "skip_h1_title": false,
   "title_cell": "Table of Contents",
   "title_sidebar": "Contents",
   "toc_cell": false,
   "toc_position": {},
   "toc_section_display": true,
   "toc_window_display": false
  }
 },
 "nbformat": 4,
 "nbformat_minor": 2
}

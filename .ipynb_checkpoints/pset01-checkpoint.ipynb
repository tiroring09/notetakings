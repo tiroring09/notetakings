{
 "cells": [
  {
   "cell_type": "markdown",
   "metadata": {},
   "source": [
    "## 보충 Q0.\n",
    "\n",
    "> 아래의 세부 문제를 풀어보시오."
   ]
  },
  {
   "cell_type": "code",
   "execution_count": 1,
   "metadata": {},
   "outputs": [],
   "source": [
    "# 해당 셀을 실행 해주세요.\n",
    "development = {\n",
    "    'category': ['web', 'mobile', 'algorithms', 'deep learning'],\n",
    "    'language': {\n",
    "        'python': {\n",
    "            'python standard library': ['os', 'random', 'webbrowser'],\n",
    "            'frameworks': {\n",
    "                'flask': 'micro',\n",
    "                'django': 'full-functioning'\n",
    "            },\n",
    "            'data_science': ['numpy', 'pandas', 'scipy', 'sklearn'],\n",
    "            'scraping': ['requests', 'bs4'],\n",
    "        },\n",
    "        'javascript': {\n",
    "            'frameworks': ['vue']\n",
    "        }\n",
    "    },\n",
    "    'git': {\n",
    "       'definition': 'DVCS',\n",
    "       'services': ['github', 'gitlab', 'bitbucket'],\n",
    "       'book': 'https://git-scm.com/book/ko/v2'\n",
    "    }\n",
    "}\n",
    "\n",
    "idols = {\n",
    "    'group': {\n",
    "        'bts': {\n",
    "            'leader': 'RM',\n",
    "            'members': ['진', '슈가', '제이홉', '지민', '뷔', '정국']\n",
    "        },\n",
    "        '소녀시대': {\n",
    "            'leader': '태연',\n",
    "            'members': ['써니', '티파니', '효연', '유리', '수영', '윤아', '서현']\n",
    "        },\n",
    "    },\n",
    "    'solo': ['아이유', '백예린', '지코']\n",
    "}"
   ]
  },
  {
   "cell_type": "code",
   "execution_count": 4,
   "metadata": {},
   "outputs": [
    {
     "name": "stdout",
     "output_type": "stream",
     "text": [
      "4\n"
     ]
    }
   ],
   "source": [
    "\"\"\"\n",
    "난이도* 1. 개발 카테고리(category)의 갯수를 출력하세요.\n",
    "출력예시)\n",
    "4\n",
    "\"\"\"\n",
    "\n",
    "print(len(development['category']))"
   ]
  },
  {
   "cell_type": "code",
   "execution_count": 6,
   "metadata": {},
   "outputs": [
    {
     "name": "stdout",
     "output_type": "stream",
     "text": [
      "False\n"
     ]
    }
   ],
   "source": [
    "\"\"\"\n",
    "난이도** 2. python standard library에 'requests'가 있는지 여부를 True/False로 출력하세요.\n",
    "출력예시)\n",
    "False\n",
    "\"\"\"\n",
    "\n",
    "print('requests' in development['language']['python']['python standard library'])"
   ]
  },
  {
   "cell_type": "code",
   "execution_count": 7,
   "metadata": {},
   "outputs": [
    {
     "name": "stdout",
     "output_type": "stream",
     "text": [
      "RM\n"
     ]
    }
   ],
   "source": [
    "\"\"\"\n",
    "난이도** 3. bts 리더를 출력하세요.\n",
    "출력예시)\n",
    "RM\n",
    "\"\"\"\n",
    "\n",
    "print(idols['group']['bts']['leader'])"
   ]
  },
  {
   "cell_type": "code",
   "execution_count": 8,
   "metadata": {},
   "outputs": [
    {
     "name": "stdout",
     "output_type": "stream",
     "text": [
      "python\n",
      "javascript\n"
     ]
    }
   ],
   "source": [
    "\"\"\"\n",
    "난이도*** 4. 개발 언어(language)를 모두 출력하세요.\n",
    "출력 예시)\n",
    "python\n",
    "web\n",
    "\"\"\"\n",
    "\n",
    "for language in development['language']:\n",
    "    print(language)"
   ]
  },
  {
   "cell_type": "code",
   "execution_count": 21,
   "metadata": {},
   "outputs": [
    {
     "name": "stdout",
     "output_type": "stream",
     "text": [
      "진\n",
      "슈가\n",
      "제이홉\n",
      "지민\n",
      "뷔\n",
      "정국\n",
      "써니\n",
      "티파니\n",
      "효연\n",
      "유리\n",
      "수영\n",
      "윤아\n",
      "서현\n"
     ]
    }
   ],
   "source": [
    "\"\"\"\n",
    "난이도**** 5. 아이돌 그룹의 멤버들을 모두 출력하세요\n",
    "출력예시)\n",
    "진\n",
    "슈가\n",
    "제이홉\n",
    "지민\n",
    "뷔\n",
    "정국\n",
    "써니\n",
    "티파니\n",
    "효연\n",
    "유리\n",
    "수영\n",
    "윤아\n",
    "서현\n",
    "\"\"\"\n",
    "\n",
    "for group in idols['group']:\n",
    "    for each in idols['group'][group]['members']:\n",
    "        print(each)\n",
    "        \n"
   ]
  },
  {
   "cell_type": "code",
   "execution_count": 22,
   "metadata": {},
   "outputs": [
    {
     "name": "stdout",
     "output_type": "stream",
     "text": [
      "flask는 micro이다\n",
      "django는 full-functioning이다\n"
     ]
    }
   ],
   "source": [
    "\"\"\"\n",
    "난이도**** 6. framework 들의 이름과 설명을 다음과 같이 출력하세요.\n",
    "출력예시)\n",
    "flask는 micro이다.\n",
    "django는 full-functioning이다.\n",
    "\"\"\"\n",
    "\n",
    "for key, value in development['language']['python']['frameworks'].items():\n",
    "    print(f'{key}는 {value}이다')"
   ]
  },
  {
   "cell_type": "code",
   "execution_count": 56,
   "metadata": {},
   "outputs": [
    {
     "data": {
      "text/plain": [
       "'지코'"
      ]
     },
     "execution_count": 56,
     "metadata": {},
     "output_type": "execute_result"
    }
   ],
   "source": [
    "\"\"\"\n",
    "난이도***** 7. 오늘의 솔로 아이돌을 랜덤으로 한명만 뽑아주세요.\n",
    "출력예시)\n",
    "아이유\n",
    "\"\"\"\n",
    "import random\n",
    "\n",
    "random.choice(idols['solo'])"
   ]
  }
 ],
 "metadata": {
  "kernelspec": {
   "display_name": "Python 3",
   "language": "python",
   "name": "python3"
  },
  "language_info": {
   "codemirror_mode": {
    "name": "ipython",
    "version": 3
   },
   "file_extension": ".py",
   "mimetype": "text/x-python",
   "name": "python",
   "nbconvert_exporter": "python",
   "pygments_lexer": "ipython3",
   "version": "3.7.3"
  }
 },
 "nbformat": 4,
 "nbformat_minor": 2
}

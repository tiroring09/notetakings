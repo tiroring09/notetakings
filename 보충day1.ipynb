{
 "cells": [
  {
   "cell_type": "markdown",
   "metadata": {},
   "source": [
    "## 보충 Q0.\n",
    "\n",
    "주어진 리스트 내에 주어진 단어들 중에서 길이가 가장 짧은 단어를 찾아 해당 단어를 찾아주세요. 동일한 길이의 단어가 2개 이상 존재하지 않는다고 가정합니다.\n",
    "\n",
    "```python\n",
    "words = [\"tiger\", \"cat\", \"lion\", \"mouse\"]\n",
    "\n",
    "예시 출력)\n",
    "cat\n",
    "```"
   ]
  },
  {
   "cell_type": "code",
   "execution_count": 3,
   "metadata": {},
   "outputs": [
    {
     "name": "stdout",
     "output_type": "stream",
     "text": [
      "cat\n"
     ]
    }
   ],
   "source": [
    "words = [\"tiger\", \"cat\", \"lion\", \"mouse\"]\n",
    "temp = 10\n",
    "temp_idx = 0\n",
    "\n",
    "for idx, each in enumerate(map(len, words)):\n",
    "    if temp > each:\n",
    "        temp = each\n",
    "        temp_idx = idx\n",
    "        \n",
    "print(words[temp_idx])"
   ]
  },
  {
   "cell_type": "markdown",
   "metadata": {},
   "source": [
    "## 보충 Q1.\n",
    "\n",
    "> 양수/음수/0의 비율을 각각 순서대로 출력하시오.\n",
    "\n",
    "```\n",
    "예시 입력)\n",
    "0 -1 3 5 \n",
    "\n",
    "예시 출력)\n",
    "0.5 0.25 0.25\n",
    "```\n",
    "\n"
   ]
  },
  {
   "cell_type": "code",
   "execution_count": 4,
   "metadata": {
    "scrolled": true
   },
   "outputs": [
    {
     "name": "stdout",
     "output_type": "stream",
     "text": [
      "0 -1 3 5\n",
      "0.5 0.25 0.25\n"
     ]
    }
   ],
   "source": [
    "numbers = tuple(map(int, input().split()))\n",
    "answer = [0, 0, 0]\n",
    "\n",
    "for num in numbers:\n",
    "    if num > 0:\n",
    "        answer[0] += 1\n",
    "    elif num < 0:\n",
    "        answer[1] += 1\n",
    "    else:\n",
    "        answer[2] += 1\n",
    "\n",
    "answer = tuple(map(lambda x : x / len(numbers), answer))\n",
    "print(' '.join(map(str, answer)))"
   ]
  },
  {
   "cell_type": "markdown",
   "metadata": {},
   "source": [
    "## 보충 Q2.\n",
    "\n",
    "> justin과 neo가 카드게임을 하고 있다. 아래의 예시 값은 카드를 낸 순서이다. \n",
    ">\n",
    "> 숫자를 비교해서 같으면 0점, 숫자가 더 크면 1점이라고 할 때 justin과 neo의 점수를 순서대로 출력하시오.\n",
    "\n",
    "```\n",
    "예시 값)\n",
    "justin = [10, 6, 8, 2, 1]\n",
    "neo = [2, 7, 3, 5, 10]\n",
    "\n",
    "예시 출력)\n",
    "2 3\n",
    "```"
   ]
  },
  {
   "cell_type": "code",
   "execution_count": null,
   "metadata": {},
   "outputs": [],
   "source": [
    "justin = [10, 6, 8, 2, 1]\n",
    "neo = [2, 7, 3, 5, 10]\n",
    "\n",
    "# 아래에 코드를 작성하세요."
   ]
  },
  {
   "cell_type": "markdown",
   "metadata": {},
   "source": [
    "## 보충 Q3.\n",
    "\n",
    "> 두 단어 중에 중복된 알파벳이 있는지 여부를 판단하여 True 혹은 False를 반환하시오.\n",
    "\n",
    "```\n",
    "예시 입력)\n",
    "print(is_contain_same_alphabet('my', 'sweet home'))\n",
    "print(is_contain_same_alphabet('oreo', 'kikat'))\n",
    "\n",
    "예시 출력)\n",
    "True\n",
    "False\n",
    "```"
   ]
  },
  {
   "cell_type": "code",
   "execution_count": null,
   "metadata": {},
   "outputs": [],
   "source": [
    "def is_contain_same_alphabet(a, b):\n",
    "    # 아래에 코드를 작성하시오."
   ]
  }
 ],
 "metadata": {
  "kernelspec": {
   "display_name": "Python 3",
   "language": "python",
   "name": "python3"
  },
  "language_info": {
   "codemirror_mode": {
    "name": "ipython",
    "version": 3
   },
   "file_extension": ".py",
   "mimetype": "text/x-python",
   "name": "python",
   "nbconvert_exporter": "python",
   "pygments_lexer": "ipython3",
   "version": "3.7.3"
  },
  "toc": {
   "base_numbering": 1,
   "nav_menu": {},
   "number_sections": true,
   "sideBar": true,
   "skip_h1_title": false,
   "title_cell": "Table of Contents",
   "title_sidebar": "Contents",
   "toc_cell": false,
   "toc_position": {},
   "toc_section_display": true,
   "toc_window_display": false
  }
 },
 "nbformat": 4,
 "nbformat_minor": 2
}
